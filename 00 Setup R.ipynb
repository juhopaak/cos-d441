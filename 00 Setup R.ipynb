{
 "cells": [
  {
   "cell_type": "code",
   "execution_count": 1,
   "metadata": {},
   "outputs": [
    {
     "name": "stderr",
     "output_type": "stream",
     "text": [
      "Installing packages into ‘/Users/juhopaak/Library/R/arm64/4.4/library’\n",
      "(as ‘lib’ is unspecified)\n",
      "\n",
      "also installing the dependencies ‘sys’, ‘askpass’, ‘permute’, ‘zoo’, ‘tweenr’, ‘polyclip’, ‘systemfonts’, ‘curl’, ‘openssl’, ‘ca’, ‘gclus’, ‘qap’, ‘registry’, ‘TSP’, ‘vegan’, ‘lmtest’, ‘ggforce’, ‘tidygraph’, ‘graphlayouts’, ‘httr’, ‘seriation’, ‘vcd’, ‘igraph’, ‘ggraph’, ‘plotly’, ‘visNetwork’\n",
      "\n",
      "\n"
     ]
    },
    {
     "name": "stdout",
     "output_type": "stream",
     "text": [
      "\n",
      "The downloaded binary packages are in\n",
      "\t/var/folders/f5/rvzjs9mx3vgdk4s76v2jw_tdrq3gy7/T//RtmpuR3QjM/downloaded_packages\n"
     ]
    }
   ],
   "source": [
    "install.packages( c(\"caret\",  \"XML\", \"quanteda\", \"topicmodels\", \"randomForest\", \"kernlab\", \"ROSE\") )"
   ]
  }
 ],
 "metadata": {
  "kernelspec": {
   "display_name": "R",
   "language": "R",
   "name": "ir"
  },
  "language_info": {
   "codemirror_mode": "r",
   "file_extension": ".r",
   "mimetype": "text/x-r-source",
   "name": "R",
   "pygments_lexer": "r",
   "version": "4.4.0"
  }
 },
 "nbformat": 4,
 "nbformat_minor": 4
}
