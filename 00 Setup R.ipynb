{
 "cells": [
  {
   "cell_type": "code",
   "execution_count": null,
   "metadata": {},
   "outputs": [],
   "source": [
    "install.packages( c(\"caret\",  \"XML\", \"quanteda\", \"topicmodels\", \"randomForest\", \"kernlab\", \"ROSE\") )"
   ]
  }
 ],
 "metadata": {
  "language_info": {
   "name": "R"
  }
 },
 "nbformat": 4,
 "nbformat_minor": 4
}
