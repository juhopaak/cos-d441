{
 "cells": [
  {
   "cell_type": "markdown",
   "metadata": {},
   "source": [
    "## Support vector machines\n",
    "\n",
    "**Data** [Gender-annoted dataset of European parliament talks](https://www.kaggle.com/ellarabi/europarl-annotated-for-speaker-gender-and-age)\n",
    "\n",
    "**Overreaching question** Can we develop a model which correctly predicts speakers' gender, based on what they are saying?"
   ]
  },
  {
   "cell_type": "markdown",
   "metadata": {},
   "source": [
    "## Data management\n",
    "\n",
    "Let's create a dataset with the variable of interest and the textual data.\n",
    "The data about gender is stored as XML, so we need to do a bit of work before we can easily use it.\n",
    "The below code also transforms the text data into a feature matrix."
   ]
  },
  {
   "cell_type": "code",
   "execution_count": 222,
   "metadata": {},
   "outputs": [],
   "source": [
    "metadata_all <- readLines('./data/europarl-annotated-for-speaker-gender-and-age/europarl.de-en/europarl.de-en.dat')\n",
    "texts_all <- readLines('./data/europarl-annotated-for-speaker-gender-and-age/europarl.de-en/europarl.de-en.en.aligned.tok')\n",
    "\n",
    "set.seed(1) # Set seed for reproducible results\n",
    "\n",
    "## Processign the data takes some time, so let's choose a random set of 1000 messages to try initial modeling\n",
    "all_ids <- 1:length( metadata_all )\n",
    "selected_ids <- sample( all_ids, 1000 )\n",
    "\n",
    "\n",
    "metadata <- metadata_all[ selected_ids ]\n",
    "texts <- texts_all[ selected_ids ]"
   ]
  },
  {
   "cell_type": "code",
   "execution_count": 223,
   "metadata": {},
   "outputs": [],
   "source": [
    "library(XML)\n",
    "\n",
    "# Parse metadata\n",
    "clean <- function( entry ){\n",
    "    xml <- xmlTreeParse( entry )\n",
    "    return( xmlGetAttr( xml$doc$children$LINE  , \"GENDER\" ) )\n",
    "}\n",
    "\n",
    "gender <- sapply( metadata, FUN = clean )\n",
    "names( gender ) <- NA"
   ]
  },
  {
   "cell_type": "code",
   "execution_count": 224,
   "metadata": {},
   "outputs": [],
   "source": [
    "library(quanteda)\n",
    "\n",
    "corp <- corpus( texts )\n",
    "\n",
    "token <- tokens( corp, remove_punct=TRUE ) # Remove punctuation\n",
    "\n",
    "document_terms <- dfm( token )"
   ]
  },
  {
   "cell_type": "code",
   "execution_count": 225,
   "metadata": {},
   "outputs": [
    {
     "data": {
      "text/html": [
       "<style>\n",
       ".list-inline {list-style: none; margin:0; padding: 0}\n",
       ".list-inline>li {display: inline-block}\n",
       ".list-inline>li:not(:last-child)::after {content: \"\\00b7\"; padding: 0 .5ex}\n",
       "</style>\n",
       "<ol class=list-inline><li>1000</li><li>4046</li></ol>\n"
      ],
      "text/latex": [
       "\\begin{enumerate*}\n",
       "\\item 1000\n",
       "\\item 4046\n",
       "\\end{enumerate*}\n"
      ],
      "text/markdown": [
       "1. 1000\n",
       "2. 4046\n",
       "\n",
       "\n"
      ],
      "text/plain": [
       "[1] 1000 4046"
      ]
     },
     "metadata": {},
     "output_type": "display_data"
    }
   ],
   "source": [
    "data <- convert( document_terms, \"data.frame\" )\n",
    "data$label_for_ml <- as.vector( gender ) ## adding the variable of interest\n",
    "data$label_for_ml <- as.factor( data$label_for_ml )\n",
    "\n",
    "## this column is added when converting to data frame, but it is useless => remove from analysis\n",
    "data <- data[, -c(1)]\n",
    "\n",
    "dim( data )"
   ]
  },
  {
   "cell_type": "markdown",
   "metadata": {},
   "source": [
    "## Create the train-test split\n",
    "\n",
    "Used later in the analysis to ensure we do not [overfit](https://en.wikipedia.org/wiki/Overfitting) to the data when training the classifier. Let's use 20% of data for testing."
   ]
  },
  {
   "cell_type": "code",
   "execution_count": 226,
   "metadata": {},
   "outputs": [],
   "source": [
    "library( caret )\n",
    "\n",
    "trainIndex <- createDataPartition(data$label_for_ml, p = .8, list = FALSE)\n",
    "\n",
    "dataTrain <- data[ trainIndex,]\n",
    "dataTest  <- data[-trainIndex,]"
   ]
  },
  {
   "cell_type": "markdown",
   "metadata": {},
   "source": [
    "# Run and evaluate SVM classifier\n",
    "\n",
    "We now train the model using the **training** data and measure its performance using the **test** dataset."
   ]
  },
  {
   "cell_type": "code",
   "execution_count": 227,
   "metadata": {
    "scrolled": false
   },
   "outputs": [
    {
     "name": "stderr",
     "output_type": "stream",
     "text": [
      "Warning message in .local(x, ...):\n",
      "“Variable(s) `' constant. Cannot scale data.”\n",
      "Warning message in .local(x, ...):\n",
      "“Variable(s) `' constant. Cannot scale data.”\n",
      "Warning message in .local(x, ...):\n",
      "“Variable(s) `' constant. Cannot scale data.”\n",
      "Warning message in .local(x, ...):\n",
      "“Variable(s) `' constant. Cannot scale data.”\n",
      "Warning message in .local(x, ...):\n",
      "“Variable(s) `' constant. Cannot scale data.”\n",
      "Warning message in .local(x, ...):\n",
      "“Variable(s) `' constant. Cannot scale data.”\n",
      "Warning message in .local(x, ...):\n",
      "“Variable(s) `' constant. Cannot scale data.”\n",
      "Warning message in .local(x, ...):\n",
      "“Variable(s) `' constant. Cannot scale data.”\n",
      "Warning message in .local(x, ...):\n",
      "“Variable(s) `' constant. Cannot scale data.”\n",
      "Warning message in .local(x, ...):\n",
      "“Variable(s) `' constant. Cannot scale data.”\n",
      "Warning message in .local(x, ...):\n",
      "“Variable(s) `' constant. Cannot scale data.”\n",
      "Warning message in .local(x, ...):\n",
      "“Variable(s) `' constant. Cannot scale data.”\n",
      "Warning message in .local(x, ...):\n",
      "“Variable(s) `' constant. Cannot scale data.”\n",
      "Warning message in .local(x, ...):\n",
      "“Variable(s) `' constant. Cannot scale data.”\n",
      "Warning message in .local(x, ...):\n",
      "“Variable(s) `' constant. Cannot scale data.”\n",
      "Warning message in .local(x, ...):\n",
      "“Variable(s) `' constant. Cannot scale data.”\n",
      "Warning message in .local(x, ...):\n",
      "“Variable(s) `' constant. Cannot scale data.”\n",
      "Warning message in .local(x, ...):\n",
      "“Variable(s) `' constant. Cannot scale data.”\n",
      "Warning message in .local(x, ...):\n",
      "“Variable(s) `' constant. Cannot scale data.”\n",
      "Warning message in .local(x, ...):\n",
      "“Variable(s) `' constant. Cannot scale data.”\n",
      "Warning message in .local(x, ...):\n",
      "“Variable(s) `' constant. Cannot scale data.”\n",
      "Warning message in .local(x, ...):\n",
      "“Variable(s) `' constant. Cannot scale data.”\n",
      "Warning message in .local(x, ...):\n",
      "“Variable(s) `' constant. Cannot scale data.”\n",
      "Warning message in .local(x, ...):\n",
      "“Variable(s) `' constant. Cannot scale data.”\n",
      "Warning message in .local(x, ...):\n",
      "“Variable(s) `' constant. Cannot scale data.”\n",
      "Warning message in .local(x, ...):\n",
      "“Variable(s) `' constant. Cannot scale data.”\n"
     ]
    },
    {
     "name": "stdout",
     "output_type": "stream",
     "text": [
      "Support Vector Machines with Linear Kernel \n",
      "\n",
      " 801 samples\n",
      "4045 predictors\n",
      "   2 classes: 'FEMALE', 'MALE' \n",
      "\n",
      "No pre-processing\n",
      "Resampling: Bootstrapped (25 reps) \n",
      "Summary of sample sizes: 801, 801, 801, 801, 801, 801, ... \n",
      "Resampling results:\n",
      "\n",
      "  Accuracy   Kappa       \n",
      "  0.5456128  -0.002042116\n",
      "\n",
      "Tuning parameter 'C' was held constant at a value of 1\n"
     ]
    }
   ],
   "source": [
    "# This prints a lot of warnings, you can nevermind them\n",
    "model <- train( label_for_ml ~., data = dataTrain, method = \"svmLinear\")\n",
    "\n",
    "print( model )"
   ]
  },
  {
   "cell_type": "code",
   "execution_count": 228,
   "metadata": {},
   "outputs": [
    {
     "data": {
      "text/html": [
       "<style>\n",
       ".dl-inline {width: auto; margin:0; padding: 0}\n",
       ".dl-inline>dt, .dl-inline>dd {float: none; width: auto; display: inline-block}\n",
       ".dl-inline>dt::after {content: \":\\0020\"; padding-right: .5ex}\n",
       ".dl-inline>dt:not(:first-of-type) {padding-left: .5ex}\n",
       "</style><dl class=dl-inline><dt>Accuracy</dt><dd>0.50251256281407</dd><dt>Kappa</dt><dd>-0.0937100982623663</dd></dl>\n"
      ],
      "text/latex": [
       "\\begin{description*}\n",
       "\\item[Accuracy] 0.50251256281407\n",
       "\\item[Kappa] -0.0937100982623663\n",
       "\\end{description*}\n"
      ],
      "text/markdown": [
       "Accuracy\n",
       ":   0.50251256281407Kappa\n",
       ":   -0.0937100982623663\n",
       "\n"
      ],
      "text/plain": [
       "  Accuracy      Kappa \n",
       " 0.5025126 -0.0937101 "
      ]
     },
     "metadata": {},
     "output_type": "display_data"
    }
   ],
   "source": [
    "test_pred <- predict( model, newdata = dataTest )\n",
    "postResample( test_pred, as.factor(dataTest$label_for_ml) )"
   ]
  },
  {
   "cell_type": "code",
   "execution_count": 229,
   "metadata": {
    "scrolled": false
   },
   "outputs": [
    {
     "name": "stdout",
     "output_type": "stream",
     "text": [
      "ROC curve variable importance\n",
      "\n",
      "  only 20 most important variables shown (out of 4045)\n",
      "\n",
      "           Importance\n",
      "commission     100.00\n",
      "that            73.00\n",
      "be              68.76\n",
      "for             58.75\n",
      "are             56.51\n",
      "we              56.12\n",
      "eu              51.63\n",
      "has             47.98\n",
      "is              47.06\n",
      "in              46.73\n",
      "would           45.37\n",
      "have            44.17\n",
      "it              42.78\n",
      "mr              40.08\n",
      "the             39.44\n",
      "to              38.46\n",
      "there           38.12\n",
      "parliament      36.90\n",
      "states          35.34\n",
      "need            34.88\n"
     ]
    },
    {
     "data": {
      "image/png": "[encoded data removed]",
      "text/plain": [
       "plot without title"
      ]
     },
     "metadata": {
      "image/png": {
       "height": 420,
       "width": 420
      }
     },
     "output_type": "display_data"
    }
   ],
   "source": [
    "# Check the importance of different words for the predictions\n",
    "importance <- varImp( model, data = dataTest )\n",
    "\n",
    "print( importance )\n",
    "plot( importance )"
   ]
  },
  {
   "cell_type": "markdown",
   "metadata": {},
   "source": [
    "### Things to try\n",
    "\n",
    "* Run the above code as is and interprent the accuracy. What does the score mean?\n",
    "* Examine different metrics for [classification accuracy](https://topepo.github.io/caret/measuring-performance.html).\n",
    "* Fix issues in the text pre-processing. Account for stop words, frequent terms and stem content in the document-term-matrix. Does this have any infuence on the model's accuracy?\n",
    "* Predictors include each feature in data (i.e., term), and how important they were in predicting the data. Extract and inspect the best predictor features.\n",
    "* Modify the code to use [Naive Bayes](https://topepo.github.io/caret/train-models-by-tag.html#bayesian-model) model instead of SVM. Which model seems to work better?"
   ]
  },
  {
   "cell_type": "markdown",
   "metadata": {},
   "source": [
    "# Advanced magics"
   ]
  },
  {
   "cell_type": "markdown",
   "metadata": {},
   "source": [
    "* Let's now try to improve the model's performance through *tuning* its parameters.\n",
    "* [Grid search](https://topepo.github.io/caret/model-training-and-tuning.html#basic-parameter-tuning) is an approach to systematically assess the performance different modeling parameter values.\n",
    "* You can also work on preprocessing to [scale](https://topepo.github.io/caret/pre-processing.html#centering-and-scaling) the data, or try more acressive cleaning or removal of data."
   ]
  },
  {
   "cell_type": "code",
   "execution_count": 217,
   "metadata": {},
   "outputs": [],
   "source": [
    "## Define parameter range for different models\n",
    "param_grid <- expand.grid( \"C\" = c(0.1, 1, 10, 100, 1000) )"
   ]
  },
  {
   "cell_type": "code",
   "execution_count": 218,
   "metadata": {},
   "outputs": [
    {
     "name": "stderr",
     "output_type": "stream",
     "text": [
      "Warning message in .local(x, ...):\n",
      "“Variable(s) `' constant. Cannot scale data.”\n",
      "Warning message in .local(x, ...):\n",
      "“Variable(s) `' constant. Cannot scale data.”\n",
      "Warning message in .local(x, ...):\n",
      "“Variable(s) `' constant. Cannot scale data.”\n",
      "Warning message in .local(x, ...):\n",
      "“Variable(s) `' constant. Cannot scale data.”\n",
      "Warning message in .local(x, ...):\n",
      "“Variable(s) `' constant. Cannot scale data.”\n",
      "Warning message in .local(x, ...):\n",
      "“Variable(s) `' constant. Cannot scale data.”\n",
      "Warning message in .local(x, ...):\n",
      "“Variable(s) `' constant. Cannot scale data.”\n",
      "Warning message in .local(x, ...):\n",
      "“Variable(s) `' constant. Cannot scale data.”\n",
      "Warning message in .local(x, ...):\n",
      "“Variable(s) `' constant. Cannot scale data.”\n",
      "Warning message in .local(x, ...):\n",
      "“Variable(s) `' constant. Cannot scale data.”\n",
      "Warning message in .local(x, ...):\n",
      "“Variable(s) `' constant. Cannot scale data.”\n",
      "Warning message in .local(x, ...):\n",
      "“Variable(s) `' constant. Cannot scale data.”\n",
      "Warning message in .local(x, ...):\n",
      "“Variable(s) `' constant. Cannot scale data.”\n",
      "Warning message in .local(x, ...):\n",
      "“Variable(s) `' constant. Cannot scale data.”\n",
      "Warning message in .local(x, ...):\n",
      "“Variable(s) `' constant. Cannot scale data.”\n",
      "Warning message in .local(x, ...):\n",
      "“Variable(s) `' constant. Cannot scale data.”\n",
      "Warning message in .local(x, ...):\n",
      "“Variable(s) `' constant. Cannot scale data.”\n",
      "Warning message in .local(x, ...):\n",
      "“Variable(s) `' constant. Cannot scale data.”\n",
      "Warning message in .local(x, ...):\n",
      "“Variable(s) `' constant. Cannot scale data.”\n",
      "Warning message in .local(x, ...):\n",
      "“Variable(s) `' constant. Cannot scale data.”\n",
      "Warning message in .local(x, ...):\n",
      "“Variable(s) `' constant. Cannot scale data.”\n",
      "Warning message in .local(x, ...):\n",
      "“Variable(s) `' constant. Cannot scale data.”\n",
      "Warning message in .local(x, ...):\n",
      "“Variable(s) `' constant. Cannot scale data.”\n",
      "Warning message in .local(x, ...):\n",
      "“Variable(s) `' constant. Cannot scale data.”\n",
      "Warning message in .local(x, ...):\n",
      "“Variable(s) `' constant. Cannot scale data.”\n",
      "Warning message in .local(x, ...):\n",
      "“Variable(s) `' constant. Cannot scale data.”\n",
      "Warning message in .local(x, ...):\n",
      "“Variable(s) `' constant. Cannot scale data.”\n",
      "Warning message in .local(x, ...):\n",
      "“Variable(s) `' constant. Cannot scale data.”\n",
      "Warning message in .local(x, ...):\n",
      "“Variable(s) `' constant. Cannot scale data.”\n",
      "Warning message in .local(x, ...):\n",
      "“Variable(s) `' constant. Cannot scale data.”\n",
      "Warning message in .local(x, ...):\n",
      "“Variable(s) `' constant. Cannot scale data.”\n",
      "Warning message in .local(x, ...):\n",
      "“Variable(s) `' constant. Cannot scale data.”\n",
      "Warning message in .local(x, ...):\n",
      "“Variable(s) `' constant. Cannot scale data.”\n",
      "Warning message in .local(x, ...):\n",
      "“Variable(s) `' constant. Cannot scale data.”\n",
      "Warning message in .local(x, ...):\n",
      "“Variable(s) `' constant. Cannot scale data.”\n",
      "Warning message in .local(x, ...):\n",
      "“Variable(s) `' constant. Cannot scale data.”\n",
      "Warning message in .local(x, ...):\n",
      "“Variable(s) `' constant. Cannot scale data.”\n",
      "Warning message in .local(x, ...):\n",
      "“Variable(s) `' constant. Cannot scale data.”\n",
      "Warning message in .local(x, ...):\n",
      "“Variable(s) `' constant. Cannot scale data.”\n",
      "Warning message in .local(x, ...):\n",
      "“Variable(s) `' constant. Cannot scale data.”\n",
      "Warning message in .local(x, ...):\n",
      "“Variable(s) `' constant. Cannot scale data.”\n",
      "Warning message in .local(x, ...):\n",
      "“Variable(s) `' constant. Cannot scale data.”\n",
      "Warning message in .local(x, ...):\n",
      "“Variable(s) `' constant. Cannot scale data.”\n",
      "Warning message in .local(x, ...):\n",
      "“Variable(s) `' constant. Cannot scale data.”\n",
      "Warning message in .local(x, ...):\n",
      "“Variable(s) `' constant. Cannot scale data.”\n",
      "Warning message in .local(x, ...):\n",
      "“Variable(s) `' constant. Cannot scale data.”\n",
      "Warning message in .local(x, ...):\n",
      "“Variable(s) `' constant. Cannot scale data.”\n",
      "Warning message in .local(x, ...):\n",
      "“Variable(s) `' constant. Cannot scale data.”\n",
      "Warning message in .local(x, ...):\n",
      "“Variable(s) `' constant. Cannot scale data.”\n",
      "Warning message in .local(x, ...):\n",
      "“Variable(s) `' constant. Cannot scale data.”\n",
      "Warning message in .local(x, ...):\n",
      "“Variable(s) `' constant. Cannot scale data.”\n",
      "Warning message in .local(x, ...):\n",
      "“Variable(s) `' constant. Cannot scale data.”\n",
      "Warning message in .local(x, ...):\n",
      "“Variable(s) `' constant. Cannot scale data.”\n",
      "Warning message in .local(x, ...):\n",
      "“Variable(s) `' constant. Cannot scale data.”\n",
      "Warning message in .local(x, ...):\n",
      "“Variable(s) `' constant. Cannot scale data.”\n",
      "Warning message in .local(x, ...):\n",
      "“Variable(s) `' constant. Cannot scale data.”\n",
      "Warning message in .local(x, ...):\n",
      "“Variable(s) `' constant. Cannot scale data.”\n",
      "Warning message in .local(x, ...):\n",
      "“Variable(s) `' constant. Cannot scale data.”\n",
      "Warning message in .local(x, ...):\n",
      "“Variable(s) `' constant. Cannot scale data.”\n",
      "Warning message in .local(x, ...):\n",
      "“Variable(s) `' constant. Cannot scale data.”\n",
      "Warning message in .local(x, ...):\n",
      "“Variable(s) `' constant. Cannot scale data.”\n",
      "Warning message in .local(x, ...):\n",
      "“Variable(s) `' constant. Cannot scale data.”\n",
      "Warning message in .local(x, ...):\n",
      "“Variable(s) `' constant. Cannot scale data.”\n",
      "Warning message in .local(x, ...):\n",
      "“Variable(s) `' constant. Cannot scale data.”\n",
      "Warning message in .local(x, ...):\n",
      "“Variable(s) `' constant. Cannot scale data.”\n",
      "Warning message in .local(x, ...):\n",
      "“Variable(s) `' constant. Cannot scale data.”\n",
      "Warning message in .local(x, ...):\n",
      "“Variable(s) `' constant. Cannot scale data.”\n",
      "Warning message in .local(x, ...):\n",
      "“Variable(s) `' constant. Cannot scale data.”\n",
      "Warning message in .local(x, ...):\n",
      "“Variable(s) `' constant. Cannot scale data.”\n",
      "Warning message in .local(x, ...):\n",
      "“Variable(s) `' constant. Cannot scale data.”\n",
      "Warning message in .local(x, ...):\n",
      "“Variable(s) `' constant. Cannot scale data.”\n",
      "Warning message in .local(x, ...):\n",
      "“Variable(s) `' constant. Cannot scale data.”\n",
      "Warning message in .local(x, ...):\n",
      "“Variable(s) `' constant. Cannot scale data.”\n",
      "Warning message in .local(x, ...):\n",
      "“Variable(s) `' constant. Cannot scale data.”\n",
      "Warning message in .local(x, ...):\n",
      "“Variable(s) `' constant. Cannot scale data.”\n",
      "Warning message in .local(x, ...):\n",
      "“Variable(s) `' constant. Cannot scale data.”\n",
      "Warning message in .local(x, ...):\n",
      "“Variable(s) `' constant. Cannot scale data.”\n",
      "Warning message in .local(x, ...):\n",
      "“Variable(s) `' constant. Cannot scale data.”\n",
      "Warning message in .local(x, ...):\n",
      "“Variable(s) `' constant. Cannot scale data.”\n",
      "Warning message in .local(x, ...):\n",
      "“Variable(s) `' constant. Cannot scale data.”\n",
      "Warning message in .local(x, ...):\n",
      "“Variable(s) `' constant. Cannot scale data.”\n",
      "Warning message in .local(x, ...):\n",
      "“Variable(s) `' constant. Cannot scale data.”\n",
      "Warning message in .local(x, ...):\n",
      "“Variable(s) `' constant. Cannot scale data.”\n",
      "Warning message in .local(x, ...):\n",
      "“Variable(s) `' constant. Cannot scale data.”\n",
      "Warning message in .local(x, ...):\n",
      "“Variable(s) `' constant. Cannot scale data.”\n",
      "Warning message in .local(x, ...):\n",
      "“Variable(s) `' constant. Cannot scale data.”\n",
      "Warning message in .local(x, ...):\n",
      "“Variable(s) `' constant. Cannot scale data.”\n",
      "Warning message in .local(x, ...):\n",
      "“Variable(s) `' constant. Cannot scale data.”\n",
      "Warning message in .local(x, ...):\n",
      "“Variable(s) `' constant. Cannot scale data.”\n",
      "Warning message in .local(x, ...):\n",
      "“Variable(s) `' constant. Cannot scale data.”\n",
      "Warning message in .local(x, ...):\n",
      "“Variable(s) `' constant. Cannot scale data.”\n",
      "Warning message in .local(x, ...):\n",
      "“Variable(s) `' constant. Cannot scale data.”\n",
      "Warning message in .local(x, ...):\n",
      "“Variable(s) `' constant. Cannot scale data.”\n",
      "Warning message in .local(x, ...):\n",
      "“Variable(s) `' constant. Cannot scale data.”\n",
      "Warning message in .local(x, ...):\n",
      "“Variable(s) `' constant. Cannot scale data.”\n",
      "Warning message in .local(x, ...):\n",
      "“Variable(s) `' constant. Cannot scale data.”\n",
      "Warning message in .local(x, ...):\n",
      "“Variable(s) `' constant. Cannot scale data.”\n",
      "Warning message in .local(x, ...):\n",
      "“Variable(s) `' constant. Cannot scale data.”\n",
      "Warning message in .local(x, ...):\n",
      "“Variable(s) `' constant. Cannot scale data.”\n",
      "Warning message in .local(x, ...):\n",
      "“Variable(s) `' constant. Cannot scale data.”\n",
      "Warning message in .local(x, ...):\n",
      "“Variable(s) `' constant. Cannot scale data.”\n",
      "Warning message in .local(x, ...):\n",
      "“Variable(s) `' constant. Cannot scale data.”\n"
     ]
    },
    {
     "name": "stderr",
     "output_type": "stream",
     "text": [
      "Warning message in .local(x, ...):\n",
      "“Variable(s) `' constant. Cannot scale data.”\n",
      "Warning message in .local(x, ...):\n",
      "“Variable(s) `' constant. Cannot scale data.”\n",
      "Warning message in .local(x, ...):\n",
      "“Variable(s) `' constant. Cannot scale data.”\n",
      "Warning message in .local(x, ...):\n",
      "“Variable(s) `' constant. Cannot scale data.”\n",
      "Warning message in .local(x, ...):\n",
      "“Variable(s) `' constant. Cannot scale data.”\n",
      "Warning message in .local(x, ...):\n",
      "“Variable(s) `' constant. Cannot scale data.”\n",
      "Warning message in .local(x, ...):\n",
      "“Variable(s) `' constant. Cannot scale data.”\n",
      "Warning message in .local(x, ...):\n",
      "“Variable(s) `' constant. Cannot scale data.”\n",
      "Warning message in .local(x, ...):\n",
      "“Variable(s) `' constant. Cannot scale data.”\n",
      "Warning message in .local(x, ...):\n",
      "“Variable(s) `' constant. Cannot scale data.”\n",
      "Warning message in .local(x, ...):\n",
      "“Variable(s) `' constant. Cannot scale data.”\n",
      "Warning message in .local(x, ...):\n",
      "“Variable(s) `' constant. Cannot scale data.”\n",
      "Warning message in .local(x, ...):\n",
      "“Variable(s) `' constant. Cannot scale data.”\n",
      "Warning message in .local(x, ...):\n",
      "“Variable(s) `' constant. Cannot scale data.”\n",
      "Warning message in .local(x, ...):\n",
      "“Variable(s) `' constant. Cannot scale data.”\n",
      "Warning message in .local(x, ...):\n",
      "“Variable(s) `' constant. Cannot scale data.”\n",
      "Warning message in .local(x, ...):\n",
      "“Variable(s) `' constant. Cannot scale data.”\n",
      "Warning message in .local(x, ...):\n",
      "“Variable(s) `' constant. Cannot scale data.”\n",
      "Warning message in .local(x, ...):\n",
      "“Variable(s) `' constant. Cannot scale data.”\n",
      "Warning message in .local(x, ...):\n",
      "“Variable(s) `' constant. Cannot scale data.”\n",
      "Warning message in .local(x, ...):\n",
      "“Variable(s) `' constant. Cannot scale data.”\n",
      "Warning message in .local(x, ...):\n",
      "“Variable(s) `' constant. Cannot scale data.”\n",
      "Warning message in .local(x, ...):\n",
      "“Variable(s) `' constant. Cannot scale data.”\n",
      "Warning message in .local(x, ...):\n",
      "“Variable(s) `' constant. Cannot scale data.”\n"
     ]
    }
   ],
   "source": [
    "many_models <- train( label_for_ml ~., data = dataTrain, method = \"svmLinear\", tuneGrid = param_grid )"
   ]
  },
  {
   "cell_type": "code",
   "execution_count": 219,
   "metadata": {},
   "outputs": [
    {
     "data": {
      "text/plain": [
       "Support Vector Machines with Linear Kernel \n",
       "\n",
       " 801 samples\n",
       "4045 predictors\n",
       "   2 classes: 'FEMALE', 'MALE' \n",
       "\n",
       "No pre-processing\n",
       "Resampling: Bootstrapped (25 reps) \n",
       "Summary of sample sizes: 801, 801, 801, 801, 801, 801, ... \n",
       "Resampling results across tuning parameters:\n",
       "\n",
       "  C      Accuracy   Kappa      \n",
       "  1e-01  0.5591604  -0.01463058\n",
       "  1e+00  0.5339926  -0.01991129\n",
       "  1e+01  0.5339086  -0.01869355\n",
       "  1e+02  0.5339086  -0.01869355\n",
       "  1e+03  0.5339086  -0.01869355\n",
       "\n",
       "Accuracy was used to select the optimal model using the largest value.\n",
       "The final value used for the model was C = 0.1."
      ]
     },
     "metadata": {},
     "output_type": "display_data"
    }
   ],
   "source": [
    "many_models"
   ]
  },
  {
   "cell_type": "code",
   "execution_count": 220,
   "metadata": {},
   "outputs": [
    {
     "data": {
      "text/html": [
       "<style>\n",
       ".dl-inline {width: auto; margin:0; padding: 0}\n",
       ".dl-inline>dt, .dl-inline>dd {float: none; width: auto; display: inline-block}\n",
       ".dl-inline>dt::after {content: \":\\0020\"; padding-right: .5ex}\n",
       ".dl-inline>dt:not(:first-of-type) {padding-left: .5ex}\n",
       "</style><dl class=dl-inline><dt>Accuracy</dt><dd>0.547738693467337</dd><dt>Kappa</dt><dd>-0.0836156824782189</dd></dl>\n"
      ],
      "text/latex": [
       "\\begin{description*}\n",
       "\\item[Accuracy] 0.547738693467337\n",
       "\\item[Kappa] -0.0836156824782189\n",
       "\\end{description*}\n"
      ],
      "text/markdown": [
       "Accuracy\n",
       ":   0.547738693467337Kappa\n",
       ":   -0.0836156824782189\n",
       "\n"
      ],
      "text/plain": [
       "   Accuracy       Kappa \n",
       " 0.54773869 -0.08361568 "
      ]
     },
     "metadata": {},
     "output_type": "display_data"
    }
   ],
   "source": [
    "pred <- predict( many_models, newdata = dataTest )\n",
    "postResample( pred, as.factor(dataTest$label_for_ml) )"
   ]
  },
  {
   "cell_type": "markdown",
   "metadata": {},
   "source": [
    "* We have so far used a binary variable (male/female) as target. However, support vector machines can be used to perform multi-category classification or to use linear variables through regression models - see [different models](https://topepo.github.io/caret/available-models.html).\n",
    "\n",
    "* If doing multi-category classification, the algorithm is senstive to inbalances between classes, i.e. if there are more cases belonging to Category 1 than in Category 2. We might need to do [magic](https://topepo.github.io/caret/subsampling-for-class-imbalances.html) to control for these."
   ]
  },
  {
   "cell_type": "code",
   "execution_count": 221,
   "metadata": {},
   "outputs": [
    {
     "name": "stderr",
     "output_type": "stream",
     "text": [
      "Warning message in .local(x, ...):\n",
      "“Variable(s) `' constant. Cannot scale data.”\n",
      "Warning message in .local(x, ...):\n",
      "“Variable(s) `' constant. Cannot scale data.”\n",
      "Warning message in .local(x, ...):\n",
      "“Variable(s) `' constant. Cannot scale data.”\n",
      "Warning message in .local(x, ...):\n",
      "“Variable(s) `' constant. Cannot scale data.”\n",
      "Warning message in .local(x, ...):\n",
      "“Variable(s) `' constant. Cannot scale data.”\n",
      "Warning message in .local(x, ...):\n",
      "“Variable(s) `' constant. Cannot scale data.”\n",
      "Warning message in .local(x, ...):\n",
      "“Variable(s) `' constant. Cannot scale data.”\n",
      "Warning message in .local(x, ...):\n",
      "“Variable(s) `' constant. Cannot scale data.”\n",
      "Warning message in .local(x, ...):\n",
      "“Variable(s) `' constant. Cannot scale data.”\n",
      "Warning message in .local(x, ...):\n",
      "“Variable(s) `' constant. Cannot scale data.”\n",
      "Warning message in .local(x, ...):\n",
      "“Variable(s) `' constant. Cannot scale data.”\n",
      "Warning message in .local(x, ...):\n",
      "“Variable(s) `' constant. Cannot scale data.”\n",
      "Warning message in .local(x, ...):\n",
      "“Variable(s) `' constant. Cannot scale data.”\n",
      "Warning message in .local(x, ...):\n",
      "“Variable(s) `' constant. Cannot scale data.”\n",
      "Warning message in .local(x, ...):\n",
      "“Variable(s) `' constant. Cannot scale data.”\n",
      "Warning message in .local(x, ...):\n",
      "“Variable(s) `' constant. Cannot scale data.”\n",
      "Warning message in .local(x, ...):\n",
      "“Variable(s) `' constant. Cannot scale data.”\n",
      "Warning message in .local(x, ...):\n",
      "“Variable(s) `' constant. Cannot scale data.”\n",
      "Warning message in .local(x, ...):\n",
      "“Variable(s) `' constant. Cannot scale data.”\n",
      "Warning message in .local(x, ...):\n",
      "“Variable(s) `' constant. Cannot scale data.”\n",
      "Warning message in .local(x, ...):\n",
      "“Variable(s) `' constant. Cannot scale data.”\n",
      "Warning message in .local(x, ...):\n",
      "“Variable(s) `' constant. Cannot scale data.”\n",
      "Warning message in .local(x, ...):\n",
      "“Variable(s) `' constant. Cannot scale data.”\n",
      "Warning message in .local(x, ...):\n",
      "“Variable(s) `' constant. Cannot scale data.”\n",
      "Warning message in .local(x, ...):\n",
      "“Variable(s) `' constant. Cannot scale data.”\n",
      "Warning message in .local(x, ...):\n",
      "“Variable(s) `' constant. Cannot scale data.”\n"
     ]
    },
    {
     "name": "stdout",
     "output_type": "stream",
     "text": [
      "Support Vector Machines with Linear Kernel \n",
      "\n",
      "801 samples\n",
      " 88 predictor\n",
      "  2 classes: 'MALE', 'FEMALE' \n",
      "\n",
      "No pre-processing\n",
      "Resampling: Bootstrapped (25 reps) \n",
      "Summary of sample sizes: 801, 801, 801, 801, 801, 801, ... \n",
      "Resampling results:\n",
      "\n",
      "  Accuracy   Kappa     \n",
      "  0.5121489  0.02576167\n",
      "\n",
      "Tuning parameter 'C' was held constant at a value of 1\n"
     ]
    }
   ],
   "source": [
    "library(ROSE)\n",
    "\n",
    "# There are some terms in the model that the ROSE package cannot handle (numbers and mathematical expressions).\n",
    "# These would need to be cleaned out before running the below code.\n",
    "# Let's now use a subset of the training data to demonstrate the idea.\n",
    "\n",
    "dataTrainSub <- dataTrain[c(1:5,7:13,15:38,40:91,4046)]\n",
    "\n",
    "fixedDataTrain <- ROSE( label_for_ml ~ ., data = dataTrainSub) ## note: clean out , before running this code\n",
    "\n",
    "model <- train( label_for_ml ~., data = fixedDataTrain$data, method = \"svmLinear\" )\n",
    "print( model )"
   ]
  },
  {
   "cell_type": "markdown",
   "metadata": {},
   "source": [
    "### Tasks\n",
    "\n",
    "* Try different grid search parameters, see if the accuracy metric improves.\n",
    "* Does balancing improve accuracy with the data?\n",
    "* Use age variable to develop a regression model."
   ]
  }
 ],
 "metadata": {
  "kernelspec": {
   "display_name": "R",
   "language": "R",
   "name": "ir"
  },
  "language_info": {
   "codemirror_mode": "r",
   "file_extension": ".r",
   "mimetype": "text/x-r-source",
   "name": "R",
   "pygments_lexer": "r",
   "version": "4.4.0"
  }
 },
 "nbformat": 4,
 "nbformat_minor": 4
}
